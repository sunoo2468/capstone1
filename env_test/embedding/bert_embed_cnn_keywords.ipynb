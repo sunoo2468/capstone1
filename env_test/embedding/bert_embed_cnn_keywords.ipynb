{
 "cells": [
  {
   "cell_type": "code",
   "execution_count": 15,
   "id": "f7170027-7bb8-4bbb-8305-74d4ed2e767d",
   "metadata": {},
   "outputs": [],
   "source": [
    "# !pip install sentence-transformers"
   ]
  },
  {
   "cell_type": "code",
   "execution_count": 17,
   "id": "7cc74562-480e-4619-9cd5-d71b37b36187",
   "metadata": {},
   "outputs": [],
   "source": [
    "# !pip install tqdm"
   ]
  },
  {
   "cell_type": "markdown",
   "id": "dbbf4f74-ccd7-442b-a287-200d16646fc0",
   "metadata": {},
   "source": [
    " 파일명: embedding/bert_embed_keywords.py\n",
    "\n",
    "from sentence_transformers import SentenceTransformer\n",
    "import json\n",
    "from tqdm import tqdm\n",
    "\n",
    "# ✅ 모델 로딩 (한글 포함 다국어 지원)\n",
    "model = SentenceTransformer(\"paraphrase-multilingual-MiniLM-L12-v2\")\n",
    "\n",
    "# ✅ 입력 파일 경로\n",
    "input_path = \"../data/cnn_keywords.json\"\n",
    "output_path = \"../data/cnn_embeddings_bert.json\"\n",
    "\n",
    "# ✅ 키워드 파일 불러오기\n",
    "with open(input_path, \"r\", encoding=\"utf-8\") as f:\n",
    "    data = json.load(f)\n",
    "\n",
    "# ✅ 키워드 벡터화\n",
    "result = []\n",
    "\n",
    "for item in tqdm(data, desc=\"Embedding keywords\"):\n",
    "    title = item[\"title\"]\n",
    "    keywords = item[\"keywords\"]\n",
    "    \n",
    "    embeddings = []\n",
    "    for kw in keywords:\n",
    "        vec = model.encode(kw)\n",
    "        embeddings.append({\n",
    "            \"keyword\": kw,\n",
    "            \"embedding\": vec.tolist()\n",
    "        })\n",
    "    \n",
    "    result.append({\n",
    "        \"title\": title,\n",
    "        \"keywords\": embeddings\n",
    "    })\n",
    "\n",
    "# ✅ 결과 저장\n",
    "with open(output_path, \"w\", encoding=\"utf-8\") as f:\n",
    "    json.dump(result, f, ensure_ascii=False, indent=2)\n",
    "\n",
    "print(f\"✅ BERT 임베딩 완료 → 저장 위치: {output_path}\")"
   ]
  },
  {
   "cell_type": "code",
   "execution_count": null,
   "id": "9e39f47b-96fd-4d1a-8f89-13fab1fd8651",
   "metadata": {},
   "outputs": [],
   "source": []
  }
 ],
 "metadata": {
  "kernelspec": {
   "display_name": "Python (spacy_env)",
   "language": "python",
   "name": "spacy_env"
  },
  "language_info": {
   "codemirror_mode": {
    "name": "ipython",
    "version": 3
   },
   "file_extension": ".py",
   "mimetype": "text/x-python",
   "name": "python",
   "nbconvert_exporter": "python",
   "pygments_lexer": "ipython3",
   "version": "3.10.16"
  }
 },
 "nbformat": 4,
 "nbformat_minor": 5
}

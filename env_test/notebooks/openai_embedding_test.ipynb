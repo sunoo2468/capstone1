{
 "cells": [
  {
   "cell_type": "markdown",
   "id": "a6a80321-9aab-4547-ac68-53ce3119282d",
   "metadata": {},
   "source": [
    "### openai로 임베딩 테스트용 코드 만들기"
   ]
  },
  {
   "cell_type": "markdown",
   "id": "df169b7c-2b63-48bd-8ba6-ecd169682783",
   "metadata": {},
   "source": [
    "pip install openai"
   ]
  },
  {
   "cell_type": "markdown",
   "id": "fb9cb9db-9a9f-47c3-af9d-c2b4c77fc480",
   "metadata": {},
   "source": [
    "pip show openai"
   ]
  },
  {
   "cell_type": "markdown",
   "id": "fbbb3df8-e436-4418-a277-c7cf34155d72",
   "metadata": {},
   "source": [
    "import openai\n",
    "import os\n",
    "\n",
    "#openai-api key값\n",
    "openai.api_key = os.getenv(\"OPENAI_API_KEY\")\n",
    "\n",
    "response = openai.embeddings.create(\n",
    "    model=\"text-embedding-3-small\",\n",
    "    input=\"AI will revolutionize healthcare.\"\n",
    ")\n",
    "\n",
    "embedding = response.data[0].embedding\n",
    "print(f\"임베딩 벡터 길이: {len(embedding)}\")\n",
    "print(embedding[:5])  # 앞부분 출력\n"
   ]
  },
  {
   "cell_type": "markdown",
   "id": "b63232ad-4a42-4184-860e-59a4358ae07a",
   "metadata": {},
   "source": [
    "유료 사용해야 함"
   ]
  },
  {
   "cell_type": "markdown",
   "id": "5d174d0e-fb21-40f5-93ec-faa521b546c6",
   "metadata": {},
   "source": [
    "### GloVe 기반 임베딩 테스트"
   ]
  },
  {
   "cell_type": "markdown",
   "id": "c4a7fece-e710-4824-b537-3cb93d13665c",
   "metadata": {},
   "source": [
    "사전 준비) glove.6B.300d.txt 파일이 data/ 폴더에 있다고 가정할게"
   ]
  },
  {
   "cell_type": "markdown",
   "id": "36352a00-c5bb-4bb6-85a2-c72f496a08a6",
   "metadata": {},
   "source": [
    "import numpy as np\n",
    "\n",
    "def load_glove_embeddings(file_path):\n",
    "    embeddings = {}\n",
    "    with open(file_path, \"r\", encoding=\"utf-8\") as f:\n",
    "        for line in f:\n",
    "            values = line.split()\n",
    "            word = values[0]\n",
    "            vector = np.array(values[1:], dtype='float32')\n",
    "            embeddings[word] = vector\n",
    "    return embeddings\n",
    "\n",
    "glove_path = \"../data/glove.6B.300d.txt\"  # 경로 확인 필요\n",
    "glove = load_glove_embeddings(glove_path)\n",
    "\n",
    "(#테스트)\n",
    "word = \"technology\"\n",
    "if word in glove:\n",
    "    print(f\"{word} 벡터 크기: {glove[word].shape}\")\n",
    "    print(glove[word])\n",
    "else:\n",
    "    print(f\"{word}는 GloVe에 없음\")\n"
   ]
  },
  {
   "cell_type": "markdown",
   "id": "92424c35-1be0-451f-a223-d747effcdb55",
   "metadata": {},
   "source": [
    "### KeyBERT로 키워드 → 임베딩 테스트"
   ]
  },
  {
   "cell_type": "markdown",
   "id": "e823f0a9-d3fa-4aa3-8a03-0f2ba6f52168",
   "metadata": {},
   "source": [
    "KeyBERT는 텍스트에서 키워드를 추출하고 임베딩하는 데 좋음!"
   ]
  },
  {
   "cell_type": "markdown",
   "id": "57a312e2-1417-4d44-9ac6-421729107b2d",
   "metadata": {},
   "source": [
    "pip install keybert"
   ]
  },
  {
   "cell_type": "markdown",
   "id": "612bdd82-407b-41fe-b348-08439d05a05d",
   "metadata": {},
   "source": [
    "from keybert import KeyBERT\n",
    "\n",
    "kw_model = KeyBERT()\n",
    "text = \"Artificial Intelligence is transforming the future of technology and innovation.\"\n",
    "keywords = kw_model.extract_keywords(text, top_n=5)\n",
    "\n",
    "print(\"키워드 추출 결과:\")\n",
    "for k in keywords:\n",
    "    print(k)"
   ]
  },
  {
   "cell_type": "markdown",
   "id": "f0b8f33e-ea5e-4b40-a189-8025832a96e3",
   "metadata": {},
   "source": [
    "### KoBERT 임베딩"
   ]
  },
  {
   "cell_type": "markdown",
   "id": "21d019f1-c621-497a-91e5-1cec51111c4d",
   "metadata": {},
   "source": [
    "KoBERT는 한국어 뉴스에 더 적합해. 설치가 좀 오래 걸리긴 해:"
   ]
  },
  {
   "cell_type": "markdown",
   "id": "37973da3-220d-41e3-a92f-dddff05b1521",
   "metadata": {},
   "source": [
    "pip install transformers sentencepiece"
   ]
  },
  {
   "cell_type": "markdown",
   "id": "8877617e-0c80-4a37-a550-32dfd183e204",
   "metadata": {},
   "source": [
    "from transformers import BertModel, BertTokenizer\n",
    "import torch\n",
    "\n",
    "tokenizer = BertTokenizer.from_pretrained(\"monologg/kobert\")\n",
    "model = BertModel.from_pretrained(\"monologg/kobert\")\n",
    "\n",
    "text = \"인공지능 기술이 산업 전반에 영향을 미치고 있다.\"\n",
    "inputs = tokenizer(text, return_tensors=\"pt\")\n",
    "outputs = model(**inputs)\n",
    "\n",
    "( #[CLS] 토큰의 임베딩 벡터 )\n",
    "cls_vector = outputs.last_hidden_state[:, 0, :]\n",
    "print(cls_vector.shape)\n"
   ]
  },
  {
   "cell_type": "code",
   "execution_count": null,
   "id": "db6a5148-8b46-44ee-9e8c-4ab64884da52",
   "metadata": {},
   "outputs": [],
   "source": []
  }
 ],
 "metadata": {
  "kernelspec": {
   "display_name": "Python 3 (ipykernel)",
   "language": "python",
   "name": "python3"
  },
  "language_info": {
   "codemirror_mode": {
    "name": "ipython",
    "version": 3
   },
   "file_extension": ".py",
   "mimetype": "text/x-python",
   "name": "python",
   "nbconvert_exporter": "python",
   "pygments_lexer": "ipython3",
   "version": "3.12.7"
  }
 },
 "nbformat": 4,
 "nbformat_minor": 5
}

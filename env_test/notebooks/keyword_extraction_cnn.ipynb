{
 "cells": [
  {
   "cell_type": "markdown",
   "id": "258ae348-77d8-4b9f-9348-ae7e28491e30",
   "metadata": {},
   "source": [
    "1. JSON 파일에서 제목 불러오기"
   ]
  },
  {
   "cell_type": "code",
   "execution_count": 6,
   "id": "715beacf-0a5d-4540-a5bf-98ead3c662ae",
   "metadata": {},
   "outputs": [
    {
     "name": "stdout",
     "output_type": "stream",
     "text": [
      "총 뉴스 제목 수: 10\n",
      "예시: ['Samy Ntumba Shambuyi/AP', 'DRC president commutes death sentences for 3 Americans convicted in coup attempt', 'Israel announces expansion of military operation in Gaza to seize ‘large areas’ of land, ordering residents to leave']\n"
     ]
    }
   ],
   "source": [
    "import json\n",
    "\n",
    "# JSON 파일 경로\n",
    "with open(\"../data/cnn_titles.json\", \"r\", encoding=\"utf-8\") as f:\n",
    "    titles = json.load(f)\n",
    "\n",
    "print(\"총 뉴스 제목 수:\", len(titles))\n",
    "print(\"예시:\", titles[:3])"
   ]
  },
  {
   "cell_type": "markdown",
   "id": "5a65e9e9-9525-42d9-97a0-c83c8771e878",
   "metadata": {},
   "source": [
    "2. spaCy를 이용한 영어 키워드 추출 (명사, 고유명사 중심)"
   ]
  },
  {
   "cell_type": "code",
   "execution_count": 9,
   "id": "e152f71e-b5a1-43b4-a436-49c89c78903b",
   "metadata": {},
   "outputs": [],
   "source": [
    "import spacy\n",
    "\n",
    "# 모델 불러오기\n",
    "nlp = spacy.load(\"en_core_web_sm\")\n",
    "\n",
    "def extract_keywords_spacy(text):\n",
    "    doc = nlp(text)\n",
    "    # 명사(NOUN) 또는 고유명사(PROPN) 중 stop word가 아닌 것만 추출\n",
    "    keywords = [token.text for token in doc if token.pos_ in [\"NOUN\", \"PROPN\"] and not token.is_stop]\n",
    "    return keywords"
   ]
  },
  {
   "cell_type": "markdown",
   "id": "c8b8dd2a-7540-4f58-a966-1f2b4c0b2214",
   "metadata": {},
   "source": [
    "3. 전체 제목에 대해 키워드 추출"
   ]
  },
  {
   "cell_type": "code",
   "execution_count": 12,
   "id": "d11dfb66-e636-439d-9031-be77d45d006b",
   "metadata": {},
   "outputs": [
    {
     "name": "stdout",
     "output_type": "stream",
     "text": [
      "제목: Samy Ntumba Shambuyi/AP\n",
      "키워드: ['Samy', 'Ntumba', 'Shambuyi', 'AP']\n",
      "----------------------------------------\n",
      "제목: DRC president commutes death sentences for 3 Americans convicted in coup attempt\n",
      "키워드: ['DRC', 'president', 'death', 'sentences', 'Americans', 'coup', 'attempt']\n",
      "----------------------------------------\n",
      "제목: Israel announces expansion of military operation in Gaza to seize ‘large areas’ of land, ordering residents to leave\n",
      "키워드: ['Israel', 'expansion', 'operation', 'Gaza', 'areas', 'land', 'residents']\n",
      "----------------------------------------\n",
      "제목: Putin calls up 160,000 men to Russian army in latest conscription drive, at crucial moment in Ukraine war\n",
      "키워드: ['Putin', 'men', 'army', 'conscription', 'drive', 'moment', 'Ukraine', 'war']\n",
      "----------------------------------------\n",
      "제목: China’s military launches live-fire exercise in escalation of blockade drills near Taiwan\n",
      "키워드: ['China', 'military', 'fire', 'exercise', 'escalation', 'blockade', 'drills', 'Taiwan']\n",
      "----------------------------------------\n"
     ]
    }
   ],
   "source": [
    "# 전체 뉴스 제목 → 키워드 추출\n",
    "all_keywords = []\n",
    "\n",
    "for title in titles:\n",
    "    keywords = extract_keywords_spacy(title)\n",
    "    all_keywords.append({\n",
    "        \"title\": title,\n",
    "        \"keywords\": keywords\n",
    "    })\n",
    "\n",
    "# 예시 출력\n",
    "for item in all_keywords[:5]:\n",
    "    print(\"제목:\", item[\"title\"])\n",
    "    print(\"키워드:\", item[\"keywords\"])\n",
    "    print(\"-\" * 40)"
   ]
  },
  {
   "cell_type": "markdown",
   "id": "d45239a0-1d24-4e10-9c6a-f44d78f3dec7",
   "metadata": {},
   "source": [
    "4. 결과 저장"
   ]
  },
  {
   "cell_type": "code",
   "execution_count": 16,
   "id": "18cf35c6-2526-4b03-a913-76dec451fff9",
   "metadata": {},
   "outputs": [
    {
     "name": "stdout",
     "output_type": "stream",
     "text": [
      "✅ 키워드 추출 결과 저장 완료!\n"
     ]
    }
   ],
   "source": [
    "# 결과를 JSON 파일로 저장\n",
    "with open(\"../data/cnn_keywords.json\", \"w\", encoding=\"utf-8\") as f:\n",
    "    json.dump(all_keywords, f, ensure_ascii=False, indent=2)\n",
    "\n",
    "print(\"✅ 키워드 추출 결과 저장 완료!\")"
   ]
  },
  {
   "cell_type": "code",
   "execution_count": null,
   "id": "044c354a-7faf-492a-ba70-f2ba2c100fef",
   "metadata": {},
   "outputs": [],
   "source": []
  }
 ],
 "metadata": {
  "kernelspec": {
   "display_name": "Python (spacy_env)",
   "language": "python",
   "name": "spacy_env"
  },
  "language_info": {
   "codemirror_mode": {
    "name": "ipython",
    "version": 3
   },
   "file_extension": ".py",
   "mimetype": "text/x-python",
   "name": "python",
   "nbconvert_exporter": "python",
   "pygments_lexer": "ipython3",
   "version": "3.10.16"
  }
 },
 "nbformat": 4,
 "nbformat_minor": 5
}

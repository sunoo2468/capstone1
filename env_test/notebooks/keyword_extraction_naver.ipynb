{
 "cells": [
  {
   "cell_type": "markdown",
   "id": "12a57f9d-6382-4af7-9a48-67c9dd17afbb",
   "metadata": {},
   "source": [
    "1. JSON 불러오기"
   ]
  },
  {
   "cell_type": "code",
   "execution_count": 10,
   "id": "c3705315-81f7-4b95-9a74-d089ce187b0f",
   "metadata": {},
   "outputs": [
    {
     "name": "stdout",
     "output_type": "stream",
     "text": [
      "총 제목 개수: 10\n"
     ]
    },
    {
     "data": {
      "text/plain": [
       "['서울시, 인공지능 관련 기업 혁신기술 실증에 올해 80억 투입',\n",
       " \"한컴 김연수 대표 'AI 세일즈맨'으로 뛴다\",\n",
       " \"전주 예수병원, 인공지능 기술 탑재 '프리즘 CT' 장비 도입\"]"
      ]
     },
     "execution_count": 10,
     "metadata": {},
     "output_type": "execute_result"
    }
   ],
   "source": [
    "import json\n",
    "import os\n",
    "\n",
    "naver_titles_path = \"../data/naver_titles.json\"\n",
    "with open(naver_titles_path, \"r\", encoding=\"utf-8\") as f:\n",
    "    titles = json.load(f)\n",
    "\n",
    "print(\"총 제목 개수:\", len(titles))\n",
    "titles[:3]"
   ]
  },
  {
   "cell_type": "markdown",
   "id": "a84c551e-61fb-4534-bbbf-23d392dc9432",
   "metadata": {},
   "source": [
    "2. KoNLPy로 키워드 추출"
   ]
  },
  {
   "cell_type": "markdown",
   "id": "4bce14bc-adf7-4b4a-bec8-a523a7b1ac8a",
   "metadata": {},
   "source": [
    "from konlpy.tag import Okt\n",
    "okt = Okt()\n",
    "\n",
    "def extract_keywords(text):\n",
    "    nouns = okt.nouns(text)\n",
    "    return [word for word in nouns if len(word) > 1]\n",
    "\n",
    "# 예시 실행\n",
    "for t in titles[:5]:\n",
    "    print(\"제목:\", t)\n",
    "    print(\"키워드:\", extract_keywords(t))\n",
    "    print(\"-\" * 30)"
   ]
  },
  {
   "cell_type": "code",
   "execution_count": null,
   "id": "60262abf-829a-4681-83a0-9282a90ee201",
   "metadata": {},
   "outputs": [],
   "source": []
  }
 ],
 "metadata": {
  "kernelspec": {
   "display_name": "Python 3 (ipykernel)",
   "language": "python",
   "name": "python3"
  },
  "language_info": {
   "codemirror_mode": {
    "name": "ipython",
    "version": 3
   },
   "file_extension": ".py",
   "mimetype": "text/x-python",
   "name": "python",
   "nbconvert_exporter": "python",
   "pygments_lexer": "ipython3",
   "version": "3.12.7"
  }
 },
 "nbformat": 4,
 "nbformat_minor": 5
}

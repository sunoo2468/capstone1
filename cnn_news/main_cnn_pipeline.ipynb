{
 "cells": [
  {
   "cell_type": "markdown",
   "id": "85600c4a-1d50-4b55-a683-ce33150d4ee7",
   "metadata": {},
   "source": [
    "## 1. 뉴스 전체 본문 크롤링"
   ]
  },
  {
   "cell_type": "code",
   "execution_count": 9,
   "id": "85535342-1223-400f-bbcf-b7437e700027",
   "metadata": {},
   "outputs": [],
   "source": [
    "import sys\n",
    "sys.path.append(\"..\")"
   ]
  },
  {
   "cell_type": "code",
   "execution_count": 13,
   "id": "ad023864-7c2a-4611-bb40-687ab5c890d5",
   "metadata": {},
   "outputs": [],
   "source": [
    "from utils.cnn_scraper import get_cnn_articles\n",
    "\n",
    "articles = get_cnn_articles(limit=5)\n",
    "for article in articles:\n",
    "    print(article[\"title\"])\n",
    "    print(article[\"content\"][:300], \"...\\n\")"
   ]
  },
  {
   "cell_type": "code",
   "execution_count": null,
   "id": "bef1b2e4-7e75-4a44-b033-a1d06b923859",
   "metadata": {},
   "outputs": [],
   "source": []
  }
 ],
 "metadata": {
  "kernelspec": {
   "display_name": "Python (news_env)",
   "language": "python",
   "name": "news_env"
  },
  "language_info": {
   "codemirror_mode": {
    "name": "ipython",
    "version": 3
   },
   "file_extension": ".py",
   "mimetype": "text/x-python",
   "name": "python",
   "nbconvert_exporter": "python",
   "pygments_lexer": "ipython3",
   "version": "3.10.16"
  }
 },
 "nbformat": 4,
 "nbformat_minor": 5
}
